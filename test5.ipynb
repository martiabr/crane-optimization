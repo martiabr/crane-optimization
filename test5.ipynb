{
 "cells": [
  {
   "cell_type": "code",
   "execution_count": 1,
   "metadata": {},
   "outputs": [
    {
     "data": {
      "image/png": "[encoded data removed]",
      "text/plain": [
       "<Figure size 432x288 with 1 Axes>"
      ]
     },
     "metadata": {
      "needs_background": "light"
     },
     "output_type": "display_data"
    }
   ],
   "source": [
    "%matplotlib inline\n",
    "\n",
    "import numpy as np\n",
    "from matplotlib import pyplot as plt\n",
    "from IPython.display import clear_output\n",
    "from time import sleep\n",
    "\n",
    "n = 10\n",
    "a = np.zeros((n, n))\n",
    "plt.figure()\n",
    "\n",
    "for i in range(n):\n",
    "    plt.imshow(a)\n",
    "    plt.show()\n",
    "    a[i, i] = 1\n",
    "    sleep(0.1)\n",
    "    clear_output(wait=True)"
   ]
  }
 ],
 "metadata": {
  "interpreter": {
   "hash": "7a78986f13f38165c1c8876d34c4b729f092cd08e205af96ec6233a5620a1ce0"
  },
  "kernelspec": {
   "display_name": "Python 3.8.10 64-bit ('crane-optimization-SQ3euAnK': pipenv)",
   "name": "python3"
  },
  "language_info": {
   "codemirror_mode": {
    "name": "ipython",
    "version": 3
   },
   "file_extension": ".py",
   "mimetype": "text/x-python",
   "name": "python",
   "nbconvert_exporter": "python",
   "pygments_lexer": "ipython3",
   "version": "3.8.10"
  },
  "orig_nbformat": 4
 },
 "nbformat": 4,
 "nbformat_minor": 2
}
